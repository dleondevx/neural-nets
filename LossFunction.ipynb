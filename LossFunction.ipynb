{
  "nbformat": 4,
  "nbformat_minor": 0,
  "metadata": {
    "colab": {
      "provenance": [],
      "authorship_tag": "ABX9TyO9ZWnlVTxYoROIQOSKp9UI"
    },
    "kernelspec": {
      "name": "python3",
      "display_name": "Python 3"
    },
    "language_info": {
      "name": "python"
    }
  },
  "cells": [
    {
      "cell_type": "code",
      "execution_count": 3,
      "metadata": {
        "id": "HPXt1uAIRCQf"
      },
      "outputs": [],
      "source": [
        "import numpy as np\n",
        "import matplotlib.pyplot as plt"
      ]
    },
    {
      "cell_type": "code",
      "source": [
        "def mse(y, y_hat, derivate=False):\n",
        "  if derivate:\n",
        "    return (y_hat - y)\n",
        "  else:\n",
        "    return np.mean((y_hat - y)**2)"
      ],
      "metadata": {
        "id": "bWbcVJLapbIJ"
      },
      "execution_count": 7,
      "outputs": []
    },
    {
      "cell_type": "code",
      "source": [
        "real = np.array([0,0,1,1])\n",
        "prediction = np.array([0.9,0.5,0.2,0.0])"
      ],
      "metadata": {
        "id": "orqqxv-kM1cH"
      },
      "execution_count": 8,
      "outputs": []
    },
    {
      "cell_type": "code",
      "source": [
        "mse(real, prediction)"
      ],
      "metadata": {
        "colab": {
          "base_uri": "https://localhost:8080/"
        },
        "id": "rSWUrdfDNEQV",
        "outputId": "cde3cde9-4470-457b-e2aa-b03b2e6088a9"
      },
      "execution_count": 9,
      "outputs": [
        {
          "output_type": "execute_result",
          "data": {
            "text/plain": [
              "0.675"
            ]
          },
          "metadata": {},
          "execution_count": 9
        }
      ]
    },
    {
      "cell_type": "code",
      "source": [],
      "metadata": {
        "id": "Dga-PqsANGa_"
      },
      "execution_count": null,
      "outputs": []
    }
  ]
}